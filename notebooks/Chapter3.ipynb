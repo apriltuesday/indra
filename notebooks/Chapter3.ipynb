{
 "cells": [
  {
   "cell_type": "code",
   "execution_count": 36,
   "metadata": {},
   "outputs": [],
   "source": [
    "%matplotlib inline\n",
    "import cmath\n",
    "import matplotlib.pyplot as plt\n",
    "import numpy as np\n",
    "\n",
    "from collections import namedtuple"
   ]
  },
  {
   "cell_type": "code",
   "execution_count": 37,
   "metadata": {},
   "outputs": [],
   "source": [
    "# center is complex, radius is real\n",
    "Circle = namedtuple('Circle', ['center', 'radius'])\n",
    "# TODO: should we use numpy matrices or our own simpler 2x2 matrix type?"
   ]
  },
  {
   "cell_type": "code",
   "execution_count": 89,
   "metadata": {},
   "outputs": [],
   "source": [
    "def mobius_on_point(T, z):\n",
    "    \"\"\"Apply Mobius transformation T (in matrix form) to complex z\"\"\"\n",
    "    a, b, c, d = T[0,0], T[0,1], T[1,0], T[1,1]\n",
    "    if z == np.inf:\n",
    "        return a / c if c != 0 else np.inf\n",
    "    num = a * z + b\n",
    "    den = c * z + d\n",
    "    return num / den if den != 0 else np.inf"
   ]
  },
  {
   "cell_type": "code",
   "execution_count": 94,
   "metadata": {},
   "outputs": [],
   "source": [
    "def mobius_on_circle(T, C):\n",
    "    \"\"\"Apply Mobius transformation T (in matrix form) to circle C\"\"\"\n",
    "    # TODO: lines (project 3.7)\n",
    "    a, b, c, d = T[0,0], T[0,1], T[1,0], T[1,1]\n",
    "    z = C.center - C.radius**2 / (d / c + C.center).conjugate() if c != 0 else C.center\n",
    "    new_cen = mobius_on_point(T, z)\n",
    "    new_rad = abs(new_cen - mobius_on_point(T, C.center + C.radius))\n",
    "    D = Circle(center=new_cen, radius=new_rad)\n",
    "    return D"
   ]
  },
  {
   "cell_type": "code",
   "execution_count": 96,
   "metadata": {},
   "outputs": [],
   "source": [
    "T = np.array([\n",
    "    [complex(1, -1), 3],\n",
    "    [complex(0, -1), complex(0, -1)]\n",
    "])\n",
    "C = Circle(complex(0,0), 1)"
   ]
  },
  {
   "cell_type": "code",
   "execution_count": 97,
   "metadata": {},
   "outputs": [
    {
     "data": {
      "text/plain": [
       "Circle(center=inf, radius=inf)"
      ]
     },
     "execution_count": 97,
     "metadata": {},
     "output_type": "execute_result"
    }
   ],
   "source": [
    "mobius_on_circle(T, C)"
   ]
  },
  {
   "cell_type": "code",
   "execution_count": 98,
   "metadata": {},
   "outputs": [
    {
     "data": {
      "text/plain": [
       "(0.5+2j)"
      ]
     },
     "execution_count": 98,
     "metadata": {},
     "output_type": "execute_result"
    }
   ],
   "source": [
    "mobius_on_point(T, C.center + C.radius)"
   ]
  },
  {
   "cell_type": "code",
   "execution_count": null,
   "metadata": {},
   "outputs": [],
   "source": []
  }
 ],
 "metadata": {
  "kernelspec": {
   "display_name": "Python 3",
   "language": "python",
   "name": "python3"
  },
  "language_info": {
   "codemirror_mode": {
    "name": "ipython",
    "version": 3
   },
   "file_extension": ".py",
   "mimetype": "text/x-python",
   "name": "python",
   "nbconvert_exporter": "python",
   "pygments_lexer": "ipython3",
   "version": "3.7.2"
  }
 },
 "nbformat": 4,
 "nbformat_minor": 2
}
